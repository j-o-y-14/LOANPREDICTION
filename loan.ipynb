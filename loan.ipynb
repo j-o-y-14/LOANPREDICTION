{
 "cells": [
  {
   "cell_type": "code",
   "execution_count": null,
   "id": "ae098bb8",
   "metadata": {},
   "outputs": [],
   "source": [
    "# Step 1: Import Libraries\n",
    "import pandas as pd\n",
    "import numpy as np\n",
    "import matplotlib.pyplot as plt\n",
    "import seaborn as sns\n",
    "\n",
    "from sklearn.model_selection import train_test_split\n",
    "from sklearn.preprocessing import StandardScaler, OneHotEncoder\n",
    "from sklearn.compose import ColumnTransformer\n",
    "from sklearn.metrics import accuracy_score, classification_report, confusion_matrix, roc_auc_score, roc_curve\n",
    "\n",
    "from sklearn.linear_model import LogisticRegression\n",
    "from sklearn.tree import DecisionTreeClassifier\n",
    "from sklearn.ensemble import RandomForestClassifier, GradientBoostingClassifier\n",
    "\n",
    "# Use imblearn Pipeline + SMOTE\n",
    "from imblearn.pipeline import Pipeline\n",
    "from imblearn.over_sampling import SMOTE\n"
   ]
  },
  {
   "cell_type": "code",
   "execution_count": null,
   "id": "a062b543",
   "metadata": {},
   "outputs": [],
   "source": [
    "# Step 2: Load Data\n",
    "loan = pd.read_csv(\"raw-data(1).csv\")\n"
   ]
  },
  {
   "cell_type": "code",
   "execution_count": null,
   "id": "482111df",
   "metadata": {},
   "outputs": [],
   "source": [
    "# Step 2a: Rename Columns\n",
    "rename_dict = {\n",
    "    \"V1\": \"customer_id\",\n",
    "    \"V2\": \"gender\",\n",
    "    \"V3\": \"married\",\n",
    "    \"V4\": \"age\",\n",
    "    \"V5\": \"dependents\",\n",
    "    \"V6\": \"income\",\n",
    "    \"V7\": \"loan_amount\",\n",
    "    \"V8\": \"loan_term\",\n",
    "    \"V9\": \"credit_amount\",\n",
    "    \"V10\": \"region_code\",\n",
    "    \"V11\": \"employment_status\",\n",
    "    \"V12\": \"education_level\",\n",
    "    \"V13\": \"housing_status\",\n",
    "    \"V14\": \"purpose_of_loan\",\n",
    "    \"V15\": \"credit_history_length\",\n",
    "    \"V16\": \"num_open_accounts\",\n",
    "    \"V17\": \"num_credit_cards\",\n",
    "    \"V18\": \"num_loans\",\n",
    "    \"V19\": \"previous_defaults\",\n",
    "    \"V20\": \"current_default_flag\",\n",
    "    \"V21\": \"asset_value\",\n",
    "    \"V22\": \"collateral_value\",\n",
    "    \"V23\": \"other_income\",\n",
    "    \"V24\": \"coapplicant_income\",\n",
    "    \"V25\": \"total_obligations\",\n",
    "    \"V26\": \"num_late_payments\",\n",
    "    \"V27\": \"num_missed_payments\",\n",
    "    \"V28\": \"public_records_flag\",\n",
    "    \"V29\": \"num_inquiries\",\n",
    "    \"V30\": \"utilization_rate\",\n",
    "    \"V31\": \"risk_tier\",\n",
    "    \"V32\": \"default_flag\"\n",
    "}\n",
    "loan = loan.rename(columns=rename_dict)\n",
    "\n",
    "print(loan.head())\n"
   ]
  },
  {
   "cell_type": "code",
   "execution_count": null,
   "id": "f4c7788e",
   "metadata": {},
   "outputs": [],
   "source": [
    "loan.info()"
   ]
  },
  {
   "cell_type": "code",
   "execution_count": null,
   "id": "a748e1f9",
   "metadata": {},
   "outputs": [],
   "source": [
    "loan.isnull().sum()"
   ]
  },
  {
   "cell_type": "code",
   "execution_count": null,
   "id": "4db4c9e2",
   "metadata": {},
   "outputs": [],
   "source": [
    "# Step 4: Data Cleaning\n",
    "loan = loan.dropna(subset=[\"default_flag\"])\n",
    "\n",
    "num_cols = loan.select_dtypes(include=np.number).columns.tolist()\n",
    "num_cols.remove(\"default_flag\")\n",
    "\n",
    "for col in num_cols:\n",
    "    loan[col] = loan[col].fillna(loan[col].median())\n",
    "\n",
    "cat_cols = loan.select_dtypes(include=\"object\").columns.tolist()\n",
    "for col in cat_cols:\n",
    "    loan[col] = loan[col].fillna(loan[col].mode()[0])\n"
   ]
  },
  {
   "cell_type": "code",
   "execution_count": null,
   "id": "ad456a77",
   "metadata": {},
   "outputs": [],
   "source": [
    "# Step 5: Encoding + Scaling\n",
    "X = loan.drop([\"default_flag\", \"customer_id\"], axis=1)\n",
    "y = loan[\"default_flag\"]\n",
    "\n",
    "num_cols = X.select_dtypes(include=np.number).columns.tolist()\n",
    "cat_cols = X.select_dtypes(include=\"object\").columns.tolist()\n",
    "\n",
    "encoder = OneHotEncoder(drop=\"first\", sparse_output=False, handle_unknown=\"ignore\")\n",
    "scaler  = StandardScaler()\n",
    "\n",
    "preprocessor = ColumnTransformer([\n",
    "    (\"num\", scaler, num_cols),\n",
    "    (\"cat\", encoder, cat_cols)\n",
    "])\n"
   ]
  },
  {
   "cell_type": "code",
   "execution_count": null,
   "id": "2f63aa40",
   "metadata": {},
   "outputs": [],
   "source": [
    "# Step 6: Train/Test Split\n",
    "X_train, X_valid, y_train, y_valid = train_test_split(\n",
    "    X, y, test_size=0.2, stratify=y, random_state=42\n",
    ")\n"
   ]
  },
  {
   "cell_type": "code",
   "execution_count": null,
   "id": "79c1d326",
   "metadata": {},
   "outputs": [],
   "source": [
    "# Step 7: Models + Pipelines (with SMOTE inside)\n",
    "models = {\n",
    "    \"Logistic Regression\": LogisticRegression(max_iter=500),\n",
    "    \"Decision Tree\": DecisionTreeClassifier(max_depth=5),\n",
    "    \"Random Forest\": RandomForestClassifier(n_estimators=200, random_state=42),\n",
    "    \"Gradient Boosting\": GradientBoostingClassifier(random_state=42)\n",
    "}\n",
    "\n",
    "pipelines = {\n",
    "    name: Pipeline([\n",
    "        (\"preprocessor\", preprocessor),\n",
    "        (\"smote\", SMOTE(random_state=42)),   # <-- SMOTE inside pipeline\n",
    "        (\"model\", model)\n",
    "    ])\n",
    "    for name, model in models.items()\n",
    "}\n"
   ]
  },
  {
   "cell_type": "code",
   "execution_count": null,
   "id": "29a9c04d",
   "metadata": {},
   "outputs": [],
   "source": [
    "# Step 8: Training & Evaluation\n",
    "results = []\n",
    "for name, pipe in pipelines.items():\n",
    "    pipe.fit(X_train, y_train)   # pipeline handles preprocessing + SMOTE\n",
    "    \n",
    "    y_pred = pipe.predict(X_valid)\n",
    "    y_proba = pipe.predict_proba(X_valid)[:, 1]\n",
    "    \n",
    "    acc = accuracy_score(y_valid, y_pred)\n",
    "    roc_auc = roc_auc_score(y_valid, y_proba)\n",
    "    \n",
    "    results.append([name, acc, roc_auc])\n",
    "    print(f\"--- {name} ---\")\n",
    "    print(classification_report(y_valid, y_pred))\n",
    "    print(\"Confusion Matrix:\\n\", confusion_matrix(y_valid, y_pred))\n",
    "    print(\"\\n\")\n",
    "\n",
    "results_df = pd.DataFrame(results, columns=[\"Model\", \"Accuracy\", \"ROC-AUC\"])\n",
    "print(results_df)\n"
   ]
  },
  {
   "cell_type": "code",
   "execution_count": null,
   "id": "b6587537",
   "metadata": {},
   "outputs": [],
   "source": [
    "# Step 9: ROC Curve\n",
    "plt.figure(figsize=(8,6))\n",
    "for name, pipe in pipelines.items():\n",
    "    y_proba = pipe.predict_proba(X_valid)[:, 1]\n",
    "    fpr, tpr, _ = roc_curve(y_valid, y_proba)\n",
    "    plt.plot(fpr, tpr, label=f\"{name} (AUC={roc_auc_score(y_valid, y_proba):.3f})\")\n",
    "\n",
    "plt.plot([0,1], [0,1], \"k--\")\n",
    "plt.xlabel(\"False Positive Rate\")\n",
    "plt.ylabel(\"True Positive Rate\")\n",
    "plt.title(\"ROC Curve Comparison\")\n",
    "plt.legend()\n",
    "plt.show()\n"
   ]
  },
  {
   "cell_type": "code",
   "execution_count": null,
   "id": "b8ed31ab",
   "metadata": {},
   "outputs": [],
   "source": [
    "# Step 10: Final Model Training on Full Data + Test Evaluation\n",
    "best_model = pipelines[\"Random Forest\"]   # pick best model based on Step 8 results\n",
    "best_model.fit(X_train, y_train)          # pipeline handles preprocessing + SMOTE\n",
    "\n",
    "# Load test data\n",
    "test_df = pd.read_csv(\"test.csv\")   # replace with your actual test file\n",
    "\n",
    "# Drop ID and target to get features\n",
    "X_test = test_df.drop([\"default_flag\", \"customer_id\"], axis=1)\n",
    "y_test = test_df[\"default_flag\"]\n",
    "\n",
    "# Evaluate\n",
    "y_test_pred = best_model.predict(X_test)\n",
    "y_test_proba = best_model.predict_proba(X_test)[:, 1]\n",
    "\n",
    "print(\"Test Accuracy:\", accuracy_score(y_test, y_test_pred))\n",
    "print(\"Test ROC-AUC:\", roc_auc_score(y_test, y_test_proba))\n",
    "print(classification_report(y_test, y_test_pred))\n"
   ]
  }
 ],
 "metadata": {
  "language_info": {
   "name": "python"
  }
 },
 "nbformat": 4,
 "nbformat_minor": 5
}
